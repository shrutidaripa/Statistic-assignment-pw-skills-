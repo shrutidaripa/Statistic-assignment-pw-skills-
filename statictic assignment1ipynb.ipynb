{
 "cells": [
  {
   "cell_type": "markdown",
   "id": "3826e369",
   "metadata": {},
   "source": [
    " STATISTICS BASIC 1 ASSIGNMENT"
   ]
  },
  {
   "cell_type": "markdown",
   "id": "e272e3a4",
   "metadata": {},
   "source": [
    "Q1.What is Statistic?\n",
    "ANS:-Statistics is the foundation for understanding and working with data in data science. It's essentially the science of collecting, analyzing, interpreting, and presenting data to extract meaningful insights."
   ]
  },
  {
   "cell_type": "markdown",
   "id": "10b867f9",
   "metadata": {},
   "source": [
    "Q2.Define the different types of statistics and give an example of when each type might be used.\n",
    "ANS:-There are two main types of statistics used in data science:\n",
    "\n",
    "I.Descriptive Statistics: This is all about summarizing and describing the properties of a data set. It doesn't make any claims about a larger population, just focuses on the data itself.\n",
    "Example: Imagine you're analyzing the heights of basketball players. Descriptive statistics would involve finding the average height, height distribution (how many players fall within certain height ranges), and maybe even the minimum and maximum heights. This gives you a general picture of the heights in this particular data set.\n",
    "\n",
    "II.Inferential Statistics: This type of statistic goes beyond the data at hand and allows you to draw conclusions about a larger population (population inference) based on a sample of that population. It uses probability and statistical tests to make these inferences.\n",
    "Example: Let's say you want to know if the average height of all basketball players is different from the average height of the general population. Here, you might use inferential statistics to analyze data from a sample of basketball players and then test the hypothesis about the entire population of basketball players."
   ]
  },
  {
   "cell_type": "markdown",
   "id": "30c1a331",
   "metadata": {},
   "source": [
    "Q3.What are the different types of data and how do they differ from each other? Provide an example of each type of data.\n",
    "ANS:-There are two main ways to categorize data:  by measurement (quantitative vs. qualitative) and by value (nominal, ordinal, discrete, continuous).\n",
    "\n",
    "1.By Measurement:\n",
    "\n",
    "i.Quantitative Data: This is numerical data. It represents things that can be measured or counted and expressed as numbers.\n",
    "Example: Numbers of website visitors, temperature readings, heights of people, exam scores.\n",
    "ii.Qualitative Data: This is descriptive data. It represents qualities or characteristics that can't be easily measured with numbers.\n",
    "Example: Hair color (blonde, brunette), customer satisfaction rating (excellent, good, fair, poor), types of movies (comedy, drama, action).\n",
    "2.By Value:\n",
    "\n",
    "i.Nominal Data: This is categorical data with no inherent order. The categories simply represent different groups or classifications.\n",
    "Example: Blood type (A, B, AB, O), shoe size (5, 6, 7, etc.), customer survey responses (Yes/No).\n",
    "ii.Ordinal Data: This data represents categories with an order or ranking, but the differences between the categories aren't necessarily equal.\n",
    "Example: Course grades (A, B, C, D, F), customer satisfaction rating (very satisfied, satisfied, neutral, dissatisfied, very dissatisfied), military rank (private, corporal, sergeant, etc.).\n",
    "iii.Discrete Data: This refers to data with separate, distinct values. These values can be whole numbers (integers) or counts, and there aren't any values in between.\n",
    "Example: Number of pencils in a box, number of customers in a store at a specific time, results when rolling a die (1, 2, 3, 4, 5, 6).\n",
    "iv.Continuous Data: This data can take on any value within a specific range. It represents measurements that can be infinitely subdivided.\n",
    "Example: Time (seconds, minutes, hours), distance (meters, kilometers), temperature (measured on a continuous scale)."
   ]
  },
  {
   "cell_type": "markdown",
   "id": "6b168b9d",
   "metadata": {},
   "source": [
    "Q4. Categorise the following datasets with respect to quantitative and qualitative data types:\n",
    "(i) Grading in exam: A+, A, B+, B, C+, C, D, E\n",
    "(ii) Colour of mangoes: yellow, green, orange, red\n",
    "(iii) Height data of a class: [178.9, 179, 179.5, 176, 177.2, 178.3, 175.8,...]\n",
    "(iv) Number of mangoes exported by a farm: [500, 600, 478, 672, ...]\n",
    "ANS:-(i) Grading in exam: A+, A, B+, B, C+, C, D, E - Qualitative\n",
    "\n",
    "This data represents grades in an exam. Grades are categories with no inherent order or numerical value. While there might be a general understanding of an A+ being better than a C, you can't perform mathematical operations on these grades.\n",
    "\n",
    "(ii) Colour of mangoes: yellow, green, orange, red - Qualitative\n",
    "\n",
    "This data specifies the color of mangoes. Color is a descriptive characteristic and doesn't involve any numerical measurement.\n",
    "\n",
    "(iii) Height data of a class: [178.9, 179, 179.5, 176, 177.2, 178.3, 175.8,...] - Quantitative\n",
    "\n",
    "This data represents the heights of students in a class, presumably in centimeters or meters. Height is a numerical measurement and can be used in mathematical operations like calculating average height.\n",
    "\n",
    "(iv) Number of mangoes exported by a farm: [500, 600, 478, 672, ...] - Quantitative"
   ]
  },
  {
   "cell_type": "markdown",
   "id": "72bb1171",
   "metadata": {},
   "source": [
    "Q5.Explain the concept of levels of measurement and give an example of a variable for each level.\n",
    "ANS:-Nominal: This is the most basic level. It involves labeling data points into categories with no inherent order or ranking. You can only distinguish between the categories, not perform mathematical operations on them.\n",
    "Example: Blood type (A, B, AB, O). Here, each blood type is a distinct category, but you can't say A is \"higher\" or \"lower\" than B.\n",
    "Ordinal: This level involves data with categories that have a specific order or rank. However, the intervals between the categories aren't necessarily equal.\n",
    "Example: Customer satisfaction rating (very satisfied, satisfied, neutral, dissatisfied, very dissatisfied). Here, you know \"very satisfied\" is better than \"satisfied,\" but the difference in satisfaction between these categories might not be the same.\n",
    "Interval: This level includes data with categories with a consistent and meaningful interval between them. The zero point, however, might be arbitrary and not represent a true absence of the quantity being measured.\n",
    "Example: Temperature in Celsius. You can say 20°C is 10 degrees higher than 10°C, but 0°C doesn't necessarily mean \"no temperature.\"\n",
    "Ratio: This is the most sophisticated level. It includes data with all the properties of interval data, plus a true zero point that represents a complete absence of the quantity being measured.\n",
    "Example: Height in meters. You can say someone who is 2 meters tall is twice as tall as someone who is 1 meter tall, and 0 meters represents no height at all."
   ]
  },
  {
   "cell_type": "markdown",
   "id": "82b8cbbc",
   "metadata": {},
   "source": [
    "Q6.Why is it important to understand the level of measurement when analyzing data? Provide an\n",
    "example to illustrate your answer.\n",
    "ANS:-1.Choosing the Right Tools:  Different levels of measurement require different statistical tools.  For example, you can calculate the average (mean) for both interval and ratio data, but you can't meaningfully calculate the average of nominal data (like blood types).  Using the wrong tool can lead to misleading results.\n",
    "\n",
    "2.Making Valid Comparisons:  The level of measurement determines the types of comparisons you can make between data points.  With ordinal data (like customer satisfaction ratings), you can say one category is \"higher\" than another, but you can't say by how much because the intervals between categories aren't consistent.\n",
    "\n",
    "Example:Imagine you're analyzing customer satisfaction data from a survey where responses are ranked 1 (very dissatisfied) to 5 (very satisfied).  This data is ordinal.  Let's say  Group A has an average satisfaction rating of 3.5 and Group B has an average of 4.2.\n",
    "\n",
    "3.Misinterpretation without considering level of measurement: You might be tempted to conclude that Group B is significantly more satisfied than Group A based on the higher average.\n",
    "\n",
    "Correct Interpretation considering level of measurement:  Since the data is ordinal, we can't say for certain how much more satisfied Group B is. The difference between a 3.5 and a 4.2 might not be the same as the difference between a 2.8 and a 3.1."
   ]
  },
  {
   "cell_type": "markdown",
   "id": "ca6e0660",
   "metadata": {},
   "source": [
    "Q7.How nominal data type is different from ordinal data type.\n",
    "ANS:-Nominal data: Categorical data, also known as nominal data, is a crucial type of information utilized in diverse fields such as research, statistics, and data analysis. It comprises of categories or labels that help in classifying and arranging data. The essential feature of categorical data is that it does not possess any inherent order or ranking among its categories. Instead, these categories are separate, distinct, and mutually exclusive.\n",
    "example-1. Colors of Car: Car colors are nominal data, with clear categories but no inherent order or ranking. Each car falls under one color category, without any logical or numerical connection between colors.\n",
    "\n",
    "ordinal data: Ordinal data is a form of qualitative data that classifies variables into descriptive categories. It is characterized by the fact that the categories it employs are ranked on some sort of hierarchical scale, such as from high to low. Ordinal data is the second most complicated type of measurement, following nominal data. Although it is more intricate than nominal data, which lacks any inherent order, it is still relatively simplistic.\n",
    "example:Educational Levels: Ordinal data is commonly used to represent education levels, such, as ” school,” “bachelors degree,” “masters degree,” and “Ph.D.” These levels have an order.\n",
    "\n"
   ]
  },
  {
   "cell_type": "markdown",
   "id": "1580f3c7",
   "metadata": {},
   "source": [
    "Q8. Which type of plot can be used to display data in terms of range?\n",
    "ANS:-box plot: When you want to compare the distribution of data across multiple categories and identify potential outliers. It's a good choice for exploring overall trends and variability."
   ]
  },
  {
   "cell_type": "markdown",
   "id": "248ae941",
   "metadata": {},
   "source": [
    "Q9. Describe the difference between descriptive and inferential statistics. Give an example of each\n",
    "type of statistics and explain how they are used.\n",
    "ANS:-Descriptive Statistics:\n",
    "\n",
    "Focus: Summarizes and describes the characteristics of a single data set.\n",
    "\n",
    "Goal: Provides a clear picture of what the data looks like,  without making claims about a larger population.\n",
    "\n",
    "Methods: Commonly used methods include measures of central tendency (mean, median, mode) and measures of dispersion (variance, standard deviation, range).  Data visualization techniques like histograms, bar charts, and scatter plots are also part of descriptive statistics.\n",
    "\n",
    "Example: Imagine you're analyzing the heights of students in your class. Descriptive statistics would involve calculating the average height, the spread of heights (how much they vary from the average), and creating a histogram to see the distribution of heights.\n",
    "\n",
    "Inferential Statistics:\n",
    "\n",
    "Focus: Makes inferences about a larger population (population inference) based on a sample of that population.\n",
    "\n",
    "Goal: Allows you to draw conclusions about the population as a whole,  with a certain level of confidence, even though you haven't analyzed every single data point.\n",
    "\n",
    "Methods:  This involves statistical tests (like hypothesis testing) and estimation techniques (like confidence intervals)  based on probability theory.\n",
    "\n",
    "Example:  Let's say you want to know if the average height of students in your class is representative of the average height of all students in your school. Here, you might  use inferential statistics to analyze data from your class (a sample) and then test the hypothesis about the entire population of students in the school."
   ]
  },
  {
   "cell_type": "markdown",
   "id": "03d9f35c",
   "metadata": {},
   "source": [
    "Q10. What are some common measures of central tendency and variability used in statistics? Explain\n",
    "how each measure can be used to describe a dataset.\n",
    "ANS:-Mean: This is the most familiar measure, calculated by adding all the values in a data set and dividing by the number of values. It's a good choice for symmetrical data sets without many outliers.\n",
    "Usefulness: The mean provides a single value that summarizes the \"average\" level of a variable in the data set. It's helpful for comparisons between groups or data sets with similar characteristics.\n",
    "Median: This is the \"middle\" value when the data is arranged in ascending or descending order. If you have an even number of data points, the median is the average of the two middle values. The median is less sensitive to outliers than the mean.\n",
    "Usefulness: The median is useful for skewed data sets where a few extreme values might significantly affect the mean. It also makes sense for data measured on ordinal scales (ranked categories) where the difference between values isn't necessarily meaningful.\n",
    "Mode: This is the most frequent value in a data set. It can be useful for understanding what the most common value is, but it doesn't necessarily represent the center of the data.\n",
    "Usefulness: The mode is particularly useful for nominal data (categorical data) where there's no inherent order or ranking. It can also be helpful for multimodal data sets with multiple peaks in the distribution.\n",
    "Variability Measures: Understanding the Data Spread\n",
    "Measures of variability describe how spread out the data points are in a data set. Here are three common ones:\n",
    "\n",
    "Range: This is the simplest measure of variability, calculated as the difference between the highest and lowest values in the data set.\n",
    "Usefulness: The range is easy to calculate but can be misleading, especially for large data sets where a few extreme values can significantly inflate the range. It doesn't provide any information about how the data is distributed between the minimum and maximum values.\n",
    "Variance: This represents the average squared deviation of each data point from the mean. A higher variance indicates that the data points are spread out further from the mean, while a lower variance indicates the data points are clustered closer to the mean.\n",
    "Usefulness: Variance is useful for understanding the spread of data around the mean, but it's measured in squared units of the data, which can be difficult to interpret directly.\n",
    "Standard Deviation: This is the square root of the variance and is measured in the same units as the original data. It provides a more interpretable measure of variability compared to variance.\n",
    "Usefulness: Standard deviation is widely used because it's expressed in the same units as the data, making it easier to understand the spread. One standard deviation above and below the mean captures about 68% of the data points in a normal distribution.\n",
    "Choosing the Right Measure:\n",
    "\n",
    "The best measure of central tendency and variability depends on the characteristics of your data set, including:\n",
    "\n",
    "Measurement scale (nominal, ordinal, interval, ratio)\n",
    "Shape of the distribution (symmetrical, skewed)\n",
    "Presence of outliers"
   ]
  }
 ],
 "metadata": {
  "kernelspec": {
   "display_name": "Python 3 (ipykernel)",
   "language": "python",
   "name": "python3"
  },
  "language_info": {
   "codemirror_mode": {
    "name": "ipython",
    "version": 3
   },
   "file_extension": ".py",
   "mimetype": "text/x-python",
   "name": "python",
   "nbconvert_exporter": "python",
   "pygments_lexer": "ipython3",
   "version": "3.11.5"
  }
 },
 "nbformat": 4,
 "nbformat_minor": 5
}
